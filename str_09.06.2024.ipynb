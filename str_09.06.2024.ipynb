{
 "cells": [
  {
   "cell_type": "code",
   "execution_count": null,
   "id": "70bf95d5",
   "metadata": {},
   "outputs": [],
   "source": [
    "upper\n",
    "lower\n",
    "capt\n",
    "swapcase\n",
    "find\n",
    "format /f \n",
    "startswith\n",
    "endswith\n",
    "split\n",
    "strip\n",
    "join\n",
    "lstrip\n",
    "rstrip\n",
    "input -- taking user input\n",
    "count\n",
    "index\n",
    "replace\n",
    "isnumeric\n",
    "isalpha\n",
    "isalnum"
   ]
  },
  {
   "cell_type": "code",
   "execution_count": 1,
   "id": "5e8207f3",
   "metadata": {},
   "outputs": [],
   "source": [
    "p = 'Python'"
   ]
  },
  {
   "cell_type": "code",
   "execution_count": 2,
   "id": "9a4bcb67",
   "metadata": {},
   "outputs": [
    {
     "data": {
      "text/plain": [
       "'Jython'"
      ]
     },
     "execution_count": 2,
     "metadata": {},
     "output_type": "execute_result"
    }
   ],
   "source": [
    "p.replace('P','J')"
   ]
  },
  {
   "cell_type": "code",
   "execution_count": 3,
   "id": "f61537e5",
   "metadata": {},
   "outputs": [],
   "source": [
    "p = 'Python and DS are now in trending in market'"
   ]
  },
  {
   "cell_type": "code",
   "execution_count": 4,
   "id": "b9d74be9",
   "metadata": {},
   "outputs": [
    {
     "data": {
      "text/plain": [
       "'AI and DS are now in trending in market'"
      ]
     },
     "execution_count": 4,
     "metadata": {},
     "output_type": "execute_result"
    }
   ],
   "source": [
    "p.replace('Python','AI')"
   ]
  },
  {
   "cell_type": "code",
   "execution_count": 5,
   "id": "a8ec74b4",
   "metadata": {},
   "outputs": [
    {
     "data": {
      "text/plain": [
       "'Python and DS are now in trending in market'"
      ]
     },
     "execution_count": 5,
     "metadata": {},
     "output_type": "execute_result"
    }
   ],
   "source": [
    "p"
   ]
  },
  {
   "cell_type": "code",
   "execution_count": 6,
   "id": "a6a801e7",
   "metadata": {},
   "outputs": [
    {
     "data": {
      "text/plain": [
       "3"
      ]
     },
     "execution_count": 6,
     "metadata": {},
     "output_type": "execute_result"
    }
   ],
   "source": [
    "p.count('a')"
   ]
  },
  {
   "cell_type": "code",
   "execution_count": 7,
   "id": "f2b5421f",
   "metadata": {},
   "outputs": [],
   "source": [
    "p = 'asafsdfsdff'"
   ]
  },
  {
   "cell_type": "code",
   "execution_count": 9,
   "id": "1b7539a9",
   "metadata": {},
   "outputs": [
    {
     "data": {
      "text/plain": [
       "3"
      ]
     },
     "execution_count": 9,
     "metadata": {},
     "output_type": "execute_result"
    }
   ],
   "source": [
    "p.count('s')"
   ]
  },
  {
   "cell_type": "code",
   "execution_count": 10,
   "id": "bbb927f2",
   "metadata": {},
   "outputs": [],
   "source": [
    "p = 'python'"
   ]
  },
  {
   "cell_type": "code",
   "execution_count": 11,
   "id": "a04ad092",
   "metadata": {},
   "outputs": [
    {
     "data": {
      "text/plain": [
       "1"
      ]
     },
     "execution_count": 11,
     "metadata": {},
     "output_type": "execute_result"
    }
   ],
   "source": [
    "p.index('y')"
   ]
  },
  {
   "cell_type": "code",
   "execution_count": 13,
   "id": "dd61c7ec",
   "metadata": {},
   "outputs": [],
   "source": [
    "p = 'Python and DS are now in trending in market'"
   ]
  },
  {
   "cell_type": "code",
   "execution_count": 14,
   "id": "6ed27979",
   "metadata": {},
   "outputs": [
    {
     "data": {
      "text/plain": [
       "18"
      ]
     },
     "execution_count": 14,
     "metadata": {},
     "output_type": "execute_result"
    }
   ],
   "source": [
    "p.index('now')"
   ]
  },
  {
   "cell_type": "code",
   "execution_count": 15,
   "id": "1dac6f93",
   "metadata": {},
   "outputs": [],
   "source": [
    "p = \"\"\" These free tier offers are \n",
    "only available to new AWS customers, and are available for \n",
    "12 months following your AWS sign-up date. When your 12 month free usage term expires or if your application use exceeds the tiers, you simply pay standard, pay-as-you-go service rates (see each service page for full pricing details). Restrictions apply; \n",
    "see offer terms for more details.\"\"\""
   ]
  },
  {
   "cell_type": "code",
   "execution_count": 17,
   "id": "d573cc3f",
   "metadata": {},
   "outputs": [
    {
     "ename": "ValueError",
     "evalue": "substring not found",
     "output_type": "error",
     "traceback": [
      "\u001b[1;31m---------------------------------------------------------------------------\u001b[0m",
      "\u001b[1;31mValueError\u001b[0m                                Traceback (most recent call last)",
      "\u001b[1;32m<ipython-input-17-788e6d885292>\u001b[0m in \u001b[0;36m<module>\u001b[1;34m\u001b[0m\n\u001b[1;32m----> 1\u001b[1;33m \u001b[0mp\u001b[0m\u001b[1;33m.\u001b[0m\u001b[0mindex\u001b[0m\u001b[1;33m(\u001b[0m\u001b[1;34m'safdsdafsdfsafsdafsadefsadf'\u001b[0m\u001b[1;33m)\u001b[0m\u001b[1;33m\u001b[0m\u001b[1;33m\u001b[0m\u001b[0m\n\u001b[0m",
      "\u001b[1;31mValueError\u001b[0m: substring not found"
     ]
    }
   ],
   "source": [
    "p.index('safdsdafsdfsafsdafsadefsadf')"
   ]
  },
  {
   "cell_type": "code",
   "execution_count": null,
   "id": "306b292f",
   "metadata": {},
   "outputs": [],
   "source": [
    "to content:"
   ]
  },
  {
   "cell_type": "code",
   "execution_count": null,
   "id": "18e8a7c2",
   "metadata": {},
   "outputs": [],
   "source": [
    "'a-z/A-Z' -  alpha\n",
    "\n",
    "'435345345' -- numeric\n",
    "\n",
    "'Aaa435345' -- alnum"
   ]
  },
  {
   "cell_type": "code",
   "execution_count": 18,
   "id": "86bf6386",
   "metadata": {},
   "outputs": [],
   "source": [
    "empname = 'keshav'"
   ]
  },
  {
   "cell_type": "code",
   "execution_count": 19,
   "id": "eec0f5da",
   "metadata": {},
   "outputs": [
    {
     "data": {
      "text/plain": [
       "True"
      ]
     },
     "execution_count": 19,
     "metadata": {},
     "output_type": "execute_result"
    }
   ],
   "source": [
    "empname.isalpha()"
   ]
  },
  {
   "cell_type": "code",
   "execution_count": 20,
   "id": "a715eb8a",
   "metadata": {},
   "outputs": [],
   "source": [
    "username = 'test1'"
   ]
  },
  {
   "cell_type": "code",
   "execution_count": 22,
   "id": "f98798d5",
   "metadata": {},
   "outputs": [
    {
     "data": {
      "text/plain": [
       "False"
      ]
     },
     "execution_count": 22,
     "metadata": {},
     "output_type": "execute_result"
    }
   ],
   "source": [
    "username.isalpha()"
   ]
  },
  {
   "cell_type": "code",
   "execution_count": 25,
   "id": "9ce76daf",
   "metadata": {},
   "outputs": [],
   "source": [
    "empid = '43534534534sdfsd'"
   ]
  },
  {
   "cell_type": "code",
   "execution_count": 26,
   "id": "426d1f3e",
   "metadata": {},
   "outputs": [
    {
     "data": {
      "text/plain": [
       "False"
      ]
     },
     "execution_count": 26,
     "metadata": {},
     "output_type": "execute_result"
    }
   ],
   "source": [
    "empid.isnumeric()"
   ]
  },
  {
   "cell_type": "code",
   "execution_count": null,
   "id": "c27ae050",
   "metadata": {},
   "outputs": [],
   "source": [
    "alph --- isalpha\n",
    "number -- isnumeric\n",
    "al+num --> alnum"
   ]
  }
 ],
 "metadata": {
  "kernelspec": {
   "display_name": "Python 3",
   "language": "python",
   "name": "python3"
  },
  "language_info": {
   "codemirror_mode": {
    "name": "ipython",
    "version": 3
   },
   "file_extension": ".py",
   "mimetype": "text/x-python",
   "name": "python",
   "nbconvert_exporter": "python",
   "pygments_lexer": "ipython3",
   "version": "3.8.8"
  }
 },
 "nbformat": 4,
 "nbformat_minor": 5
}
